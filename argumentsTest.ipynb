{
  "cells": [
    {
      "metadata": {
        "collapsed": true
      },
      "cell_type": "markdown",
      "source": "# 関数の定義と引数"
    },
    {
      "metadata": {},
      "cell_type": "markdown",
      "source": "inmutable 変数は関数内部で値を変更しても、元の変数は変わらない"
    },
    {
      "metadata": {
        "trusted": true,
        "scrolled": true
      },
      "cell_type": "code",
      "source": "def func1(x):\n    x +=1\n    return x\n\ny = 1\nz = func1(y)\nprint(f'y={y}, z={z}')",
      "execution_count": 1,
      "outputs": [
        {
          "output_type": "stream",
          "text": "y=1, z=2\n",
          "name": "stdout"
        }
      ]
    },
    {
      "metadata": {},
      "cell_type": "markdown",
      "source": "mutable変数は、関数内部でその要素を変更すると、元の要素も変化する。"
    },
    {
      "metadata": {
        "trusted": true
      },
      "cell_type": "code",
      "source": "def func2(d):\n    for i in range(len(d)):\n        x = d[i]*2\n        d[i]=x\n\ndata = [1,4,2,5]\nfunc2(data)\nprint(data2)",
      "execution_count": 3,
      "outputs": [
        {
          "output_type": "stream",
          "text": "[2, 8, 4, 10]\n",
          "name": "stdout"
        }
      ]
    },
    {
      "metadata": {
        "trusted": true
      },
      "cell_type": "code",
      "source": "def func3(d):\n    for i in range(len(d)):\n        x = d[i]*2\n        d[i]=x\n    return d\n\ndata = [1,4,2,5]\ndata2 = func3(data)\nprint(data)\nprint(data2)",
      "execution_count": 4,
      "outputs": [
        {
          "output_type": "stream",
          "text": "[2, 8, 4, 10]\n[2, 8, 4, 10]\n",
          "name": "stdout"
        }
      ]
    },
    {
      "metadata": {},
      "cell_type": "markdown",
      "source": "以下の例では、関数内でリストをコピーし、コピーしたリストの内容を変更している。そのため、元のリストは変更されない。"
    },
    {
      "metadata": {
        "trusted": true
      },
      "cell_type": "code",
      "source": "def func4(dd):\n    d = list(dd)\n    for i in range(len(d)):\n        x = d[i]*2\n        d[i]=x\n    return d\n\ndata = [1,4,2,5]\ndata2 = func4(data)\nprint(data)\nprint(data2)",
      "execution_count": 6,
      "outputs": [
        {
          "output_type": "stream",
          "text": "[1, 4, 2, 5]\n[2, 8, 4, 10]\n",
          "name": "stdout"
        }
      ]
    },
    {
      "metadata": {
        "trusted": true
      },
      "cell_type": "code",
      "source": "",
      "execution_count": null,
      "outputs": []
    }
  ],
  "metadata": {
    "kernelspec": {
      "name": "python36",
      "display_name": "Python 3.6",
      "language": "python"
    },
    "language_info": {
      "mimetype": "text/x-python",
      "nbconvert_exporter": "python",
      "name": "python",
      "pygments_lexer": "ipython3",
      "version": "3.6.6",
      "file_extension": ".py",
      "codemirror_mode": {
        "version": 3,
        "name": "ipython"
      }
    }
  },
  "nbformat": 4,
  "nbformat_minor": 2
}