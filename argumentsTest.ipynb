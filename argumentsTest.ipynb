{
  "cells": [
    {
      "metadata": {
        "collapsed": true
      },
      "cell_type": "markdown",
      "source": "# 関数の定義と引数\n\n「引数」(arguments)とは、関数に渡すオブジェクトのこと。"
    },
    {
      "metadata": {},
      "cell_type": "markdown",
      "source": "inmutable 変数 (変更できない変数) が引数の場合、関数内部でその値を変更しても、呼び出し側の変数の値は変わらない"
    },
    {
      "metadata": {
        "trusted": true,
        "scrolled": true
      },
      "cell_type": "code",
      "source": "def func1(x):\n    x +=1#関数内部で値を変更\n    return x\n\ny = 1\nz = func1(y)\nprint(f'y={y}, z={z}')#呼び出し元の値は変更されない",
      "execution_count": null,
      "outputs": []
    },
    {
      "metadata": {},
      "cell_type": "markdown",
      "source": "mutable変数(変更できる変数)が引数の場合、関数内部でその要素を変更すると、呼び出し側の要素も変化する。"
    },
    {
      "metadata": {
        "trusted": true
      },
      "cell_type": "code",
      "source": "def func2(d):\n    for i in range(len(d)):\n        x = d[i]*2\n        d[i]=x\n\ndata = [1,4,2,5]\nfunc2(data)\nprint(data2)",
      "execution_count": null,
      "outputs": []
    },
    {
      "metadata": {
        "trusted": true
      },
      "cell_type": "code",
      "source": "def func3(d):\n    for i in range(len(d)):\n        x = d[i]*2\n        d[i]=x\n    return d\n\ndata = [1,4,2,5]\ndata2 = func3(data)\nprint(data)\nprint(data2)",
      "execution_count": null,
      "outputs": []
    },
    {
      "metadata": {},
      "cell_type": "markdown",
      "source": "以下の例では、関数内でリストをコピーし、コピーしたリストの内容を変更している。そのため、呼び出し側のリストは変更されない。"
    },
    {
      "metadata": {
        "trusted": true
      },
      "cell_type": "code",
      "source": "def func4(dd):\n    d = list(dd)\n    for i in range(len(d)):\n        x = d[i]*2\n        d[i]=x\n    return d\n\ndata = [1,4,2,5]\ndata2 = func4(data)\nprint(data)\nprint(data2)",
      "execution_count": null,
      "outputs": []
    },
    {
      "metadata": {
        "trusted": true
      },
      "cell_type": "code",
      "source": "",
      "execution_count": null,
      "outputs": []
    }
  ],
  "metadata": {
    "kernelspec": {
      "name": "python36",
      "display_name": "Python 3.6",
      "language": "python"
    },
    "language_info": {
      "mimetype": "text/x-python",
      "nbconvert_exporter": "python",
      "name": "python",
      "pygments_lexer": "ipython3",
      "version": "3.6.6",
      "file_extension": ".py",
      "codemirror_mode": {
        "version": 3,
        "name": "ipython"
      }
    }
  },
  "nbformat": 4,
  "nbformat_minor": 2
}