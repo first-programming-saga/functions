{
  "cells": [
    {
      "metadata": {
        "collapsed": true
      },
      "cell_type": "markdown",
      "source": [
        "# 関数の定義と引数\n",
        "\n",
        "「引数」(arguments)とは、関数に渡すオブジェクトのこと。"
      ]
    },
    {
      "metadata": {},
      "cell_type": "markdown",
      "source": [
        "inmutable 変数 (変更できない変数) が引数の場合、関数内部でその値を変更しても、呼び出し側の変数の値は変わらない"
      ]
    },
    {
      "metadata": {
        "trusted": true,
        "scrolled": true
      },
      "cell_type": "code",
      "source": [
        "def func1(x):\n",
        "    x += 1#関数内部で値を変更\n",
        "    return x\n",
        "\n",
        "y = 1\n",
        "z = func1(y)\n",
        "print(f'y={y}, z={z}')#呼び出し元の値は変更されない"
      ],
      "execution_count": null,
      "outputs": []
    },
    {
      "metadata": {},
      "cell_type": "markdown",
      "source": [
        "mutable変数(変更できる変数)が引数の場合、関数内部でその要素を変更すると、呼び出し側の要素も変化する。"
      ]
    },
    {
      "metadata": {
        "trusted": true
      },
      "cell_type": "code",
      "source": [
        "def func2(d):\n",
        "    for i in range(len(d)):\n",
        "        x = d[i]*2\n",
        "        d[i]=x\n",
        "\n",
        "data = [1,4,2,5]\n",
        "func2(data)\n",
        "print(data)"
      ],
      "execution_count": null,
      "outputs": []
    },
    {
      "metadata": {
        "trusted": true
      },
      "cell_type": "code",
      "source": [
        "def func3(d):\n",
        "    for i in range(len(d)):\n",
        "        x = d[i]*2\n",
        "        d[i]=x\n",
        "    return d\n",
        "\n",
        "data = [1,4,2,5]\n",
        "data2 = func3(data)\n",
        "print(data)\n",
        "print(data2)"
      ],
      "execution_count": null,
      "outputs": []
    },
    {
      "metadata": {},
      "cell_type": "markdown",
      "source": [
        "以下の例では、関数内でリストをコピーし、コピーしたリストの内容を変更している。そのため、呼び出し側のリストは変更されない。"
      ]
    },
    {
      "metadata": {
        "trusted": true
      },
      "cell_type": "code",
      "source": [
        "def func4(dd):\n",
        "    d = list(dd)\n",
        "    for i in range(len(d)):\n",
        "        x = d[i]*2\n",
        "        d[i]=x\n",
        "    return d\n",
        "\n",
        "data = [1,4,2,5]\n",
        "data2 = func4(data)\n",
        "print(data)\n",
        "print(data2)"
      ],
      "execution_count": null,
      "outputs": []
    },
    {
      "source": [
        "## 課題\n",
        "$0\\le x<1$のfloat型の引数を受け取り、$0\\le x<0.5$ならば$-1$を、$0.5\\le x<1$ならば$+1$を、それ以外ならば$0$を返す関数func5()を定義し、動作を確かめなさい。"
      ],
      "cell_type": "markdown",
      "metadata": {
        "trusted": true
      }
    },
    {
      "cell_type": "code",
      "execution_count": null,
      "metadata": {},
      "outputs": [],
      "source": []
    }
  ],
  "metadata": {
    "kernelspec": {
      "name": "python3",
      "display_name": "Python 3.7.8 64-bit",
      "metadata": {
        "interpreter": {
          "hash": "46108ca2502c6592bfd1aaec7627ce7d0b1185d2b82177369829dec32ee1ea38"
        }
      }
    },
    "language_info": {
      "mimetype": "text/x-python",
      "nbconvert_exporter": "python",
      "name": "python",
      "pygments_lexer": "ipython3",
      "version": "3.7.8-final",
      "file_extension": ".py",
      "codemirror_mode": {
        "version": 3,
        "name": "ipython"
      }
    }
  },
  "nbformat": 4,
  "nbformat_minor": 2
}