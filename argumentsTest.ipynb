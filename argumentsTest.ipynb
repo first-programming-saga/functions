{
  "cells": [
    {
      "cell_type": "markdown",
      "metadata": {
        "collapsed": true
      },
      "source": [
        "# 関数の定義と引数\n",
        "\n",
        "「引数」(arguments)とは、関数に渡すオブジェクトのこと。"
      ]
    },
    {
      "cell_type": "markdown",
      "metadata": {},
      "source": [
        "inmutable 変数 (変更できない変数) が引数の場合、関数内部でその値を変更しても、呼び出し側の変数の値は変わらない"
      ]
    },
    {
      "cell_type": "code",
      "execution_count": null,
      "metadata": {},
      "outputs": [],
      "source": [
        "import math"
      ]
    },
    {
      "attachments": {},
      "cell_type": "markdown",
      "metadata": {},
      "source": [
        "引数の後ろの\":\"で、引数の型を指定"
      ]
    },
    {
      "cell_type": "code",
      "execution_count": null,
      "metadata": {
        "scrolled": true,
        "trusted": true
      },
      "outputs": [],
      "source": [
        "def func1(x:float) -> float:\n",
        "    \"\"\"\n",
        "    関数内部で引数に1を加えて返す\n",
        "    \"\"\"\n",
        "    x += 1\n",
        "    return x\n",
        "\n",
        "y = 1\n",
        "z = func1(y)\n",
        "print(f'y={y}, z={z}')#呼び出し元の値は変更されない"
      ]
    },
    {
      "cell_type": "markdown",
      "metadata": {},
      "source": [
        "mutable変数(変更できる変数)が引数の場合、関数内部でその要素を変更すると、呼び出し側の要素も変化する。"
      ]
    },
    {
      "cell_type": "code",
      "execution_count": null,
      "metadata": {
        "trusted": true
      },
      "outputs": [],
      "source": [
        "def func2(d:list[float]) -> None:\n",
        "    \"\"\"\n",
        "    リストの各要素を2倍にする\n",
        "    \"\"\"\n",
        "    for i in range(len(d)):\n",
        "        x = d[i] * 2\n",
        "        d[i] = x\n",
        "\n",
        "data = [1, 4, 2, 5]\n",
        "func2(data)\n",
        "print(data)"
      ]
    },
    {
      "cell_type": "code",
      "execution_count": null,
      "metadata": {
        "trusted": true
      },
      "outputs": [],
      "source": [
        "def func3(d:list[float]) -> list[float]:\n",
        "    \"\"\"\n",
        "    リストの各要素を2乗にする\n",
        "    \"\"\"\n",
        "\n",
        "    for i in range(len(d)):\n",
        "        x = math.pow(d[i],2)\n",
        "        d[i] = x\n",
        "    return d\n",
        "\n",
        "data = [1, 4, 2, 5]\n",
        "data2 = func3(data)\n",
        "print(data)\n",
        "print(data2)"
      ]
    },
    {
      "cell_type": "markdown",
      "metadata": {},
      "source": [
        "以下の例では、関数内でリストをコピーし、コピーしたリストの内容を変更している。そのため、呼び出し側のリストは変更されない。"
      ]
    },
    {
      "cell_type": "code",
      "execution_count": null,
      "metadata": {
        "trusted": true
      },
      "outputs": [],
      "source": [
        "def func4(dd:list[float]) -> list[float]:\n",
        "    \"\"\"\n",
        "    リストの各要素を2倍して、別のリストを返す\n",
        "    \"\"\"\n",
        "    d = list(dd)\n",
        "    for i in range(len(d)):\n",
        "        x = d[i] * 2\n",
        "        d[i] = x\n",
        "    return d\n",
        "\n",
        "data = [1, 4, 2, 5]\n",
        "data2 = func4(data)\n",
        "print(data)\n",
        "print(data2)"
      ]
    },
    {
      "cell_type": "code",
      "execution_count": null,
      "metadata": {},
      "outputs": [],
      "source": [
        "def func5(dd:list[float], k:float) -> list[float]:\n",
        "    \"\"\"\n",
        "    リストの各要素をk倍して、別のリストを返す\n",
        "    \"\"\"\n",
        "    d:list[float] = list(dd)\n",
        "    for i in range(len(d)):\n",
        "        x = d[i] * k\n",
        "        d[i] = x\n",
        "    return d\n",
        "\n",
        "data = [1, 4, 2, 5]\n",
        "data2 = func5(data, 3)\n",
        "print(data)\n",
        "print(data2)"
      ]
    },
    {
      "cell_type": "markdown",
      "metadata": {
        "trusted": true
      },
      "source": [
        "## 課題\n",
        "$0\\le x<1$のfloat型の引数を受け取り、$0\\le x<0.5$ならば$-1$を、$0.5\\le x<1$ならば$+1$を、それ以外ならば$0$を返す関数func5()を定義し、動作を確かめなさい。"
      ]
    },
    {
      "cell_type": "code",
      "execution_count": null,
      "metadata": {},
      "outputs": [],
      "source": [
        "def func5(x:float) -> int:\n",
        "    #以下に関数の本体を記述\n",
        "\n",
        "    return 0\n",
        "\n",
        "\n",
        "for i in range(-5,15,2):\n",
        "    x = 0.1 * i\n",
        "    y = func5(x)\n",
        "    print(f'{x} -> {y}')"
      ]
    }
  ],
  "metadata": {
    "kernelspec": {
      "display_name": "Python 3.9.10 ('myenv')",
      "language": "python",
      "name": "python3"
    },
    "language_info": {
      "codemirror_mode": {
        "name": "ipython",
        "version": 3
      },
      "file_extension": ".py",
      "mimetype": "text/x-python",
      "name": "python",
      "nbconvert_exporter": "python",
      "pygments_lexer": "ipython3",
      "version": "3.9.10"
    },
    "vscode": {
      "interpreter": {
        "hash": "b3b804b6b7a7d9b475cf928428dd1242016eacc24c47853aaf0f8d1d2228aa39"
      }
    }
  },
  "nbformat": 4,
  "nbformat_minor": 2
}
