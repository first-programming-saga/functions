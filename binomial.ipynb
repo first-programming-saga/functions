{
  "cells": [
    {
      "metadata": {
        "collapsed": true
      },
      "cell_type": "markdown",
      "source": "二項係数の再帰的定義\n$$\n\\left(\\begin{matrix} n\\\\ k\\end{matrix}\\right)\n=\\left(\\begin{matrix} n-1\\\\k-1\\end{matrix}\\right)\n+\\left(\\begin{matrix} n-1\\\\k\\end{matrix}\\right)\n$$\n$$\n\\left(\\begin{matrix} n\\\\0\\end{matrix}\\right)\n=\\left(\\begin{matrix} n\\\\n\\end{matrix}\\right) = 1, \\ \\ \\forall n\\ge0\n$$\n"
    },
    {
      "metadata": {
        "trusted": true
      },
      "cell_type": "code",
      "source": "def binomial(n,k):\n    if k==0 or n==k:\n        return 1\n    return binomial(n-1,k-1)+binomial(n-1,k)\n",
      "execution_count": 1,
      "outputs": []
    },
    {
      "metadata": {
        "trusted": true
      },
      "cell_type": "code",
      "source": "binomial(3,2)",
      "execution_count": 2,
      "outputs": [
        {
          "output_type": "execute_result",
          "execution_count": 2,
          "data": {
            "text/plain": "3"
          },
          "metadata": {}
        }
      ]
    }
  ],
  "metadata": {
    "kernelspec": {
      "name": "python36",
      "display_name": "Python 3.6",
      "language": "python"
    },
    "language_info": {
      "mimetype": "text/x-python",
      "nbconvert_exporter": "python",
      "name": "python",
      "pygments_lexer": "ipython3",
      "version": "3.6.6",
      "file_extension": ".py",
      "codemirror_mode": {
        "version": 3,
        "name": "ipython"
      }
    }
  },
  "nbformat": 4,
  "nbformat_minor": 2
}