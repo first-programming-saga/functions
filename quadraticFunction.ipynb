{
  "cells": [
    {
      "metadata": {
        "collapsed": true
      },
      "cell_type": "markdown",
      "source": "# 二次関数\n\n関数は、数学における関数と同様に、受け取った引数に応じた処理を行い、値を返す（返さない場合もある）。\n\n簡単な例として、二次関数$f(x)=ax^2+bx+c$を取り上げる。"
    },
    {
      "metadata": {
        "trusted": true
      },
      "cell_type": "code",
      "source": "def quadraticFunction(x,a,b,c):\n    y = a*x*x + b*x + c\n    return y",
      "execution_count": null,
      "outputs": []
    },
    {
      "metadata": {
        "trusted": true
      },
      "cell_type": "code",
      "source": "a = 1\nb = -2\nc = 1\nfor i in range(100):\n    x = round(i * 0.1,1)\n    y=quadraticFunction(x,a,b,c)\n    message = f'f({x})={y}'\n    print(message)",
      "execution_count": null,
      "outputs": []
    },
    {
      "metadata": {
        "trusted": true
      },
      "cell_type": "code",
      "source": "",
      "execution_count": null,
      "outputs": []
    }
  ],
  "metadata": {
    "kernelspec": {
      "name": "python36",
      "display_name": "Python 3.6",
      "language": "python"
    },
    "language_info": {
      "mimetype": "text/x-python",
      "nbconvert_exporter": "python",
      "name": "python",
      "pygments_lexer": "ipython3",
      "version": "3.6.6",
      "file_extension": ".py",
      "codemirror_mode": {
        "version": 3,
        "name": "ipython"
      }
    }
  },
  "nbformat": 4,
  "nbformat_minor": 2
}