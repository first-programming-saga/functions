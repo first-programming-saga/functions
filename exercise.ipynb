{
 "cells": [
  {
   "cell_type": "markdown",
   "metadata": {},
   "source": [
    "# 演習問題"
   ]
  },
  {
   "cell_type": "markdown",
   "metadata": {},
   "source": [
    "## Heviside 階段関数\n",
    "以下のような関数を定義し、その動作を確認しなさい。\n",
    "$$h(x)=\\begin{cases}\n",
    "1 & x\\ge 0\\\\\n",
    "0 & x<0\n",
    "\\end{cases}$$"
   ]
  },
  {
   "cell_type": "code",
   "execution_count": null,
   "metadata": {},
   "outputs": [],
   "source": [
    "def heviside(int x) -> int:\n",
    "\n",
    "    "
   ]
  },
  {
   "cell_type": "markdown",
   "metadata": {},
   "source": [
    "## 中点を返す関数\n",
    "二つの点$p_1=(x_1,y_1)$と$p_2=(x_2,y_2)$を考える。その中点$q=((x_1+x_2)/2,(y_1+y_2)/2)$を返す関数を定義し、その動作を確認しなさい。"
   ]
  },
  {
   "cell_type": "code",
   "execution_count": null,
   "metadata": {},
   "outputs": [],
   "source": [
    "def middlePoint(p_1:tuple[float,float], p_2:tuple[float,float]) -> tuple[float,float]:\n",
    "\n",
    "    "
   ]
  }
 ],
 "metadata": {
  "language_info": {
   "name": "python"
  }
 },
 "nbformat": 4,
 "nbformat_minor": 2
}
