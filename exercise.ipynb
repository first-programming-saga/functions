{
 "cells": [
  {
   "cell_type": "markdown",
   "metadata": {},
   "source": [
    "# 演習問題"
   ]
  },
  {
   "cell_type": "code",
   "execution_count": null,
   "metadata": {},
   "outputs": [],
   "source": [
    "import math"
   ]
  },
  {
   "cell_type": "markdown",
   "metadata": {},
   "source": [
    "## 有理関数\n",
    "次の関数を定義し、その動作を確認しなさい。\n",
    "$$f(x)=\\frac{x-1}{x+1}$$\n",
    "確認として、$x$にいくつか具体的な値を与えなさい。"
   ]
  },
  {
   "cell_type": "code",
   "execution_count": null,
   "metadata": {},
   "outputs": [],
   "source": [
    "def rationalFunction(x:float) -> float:\n",
    "\n",
    "\n",
    "    "
   ]
  },
  {
   "cell_type": "markdown",
   "metadata": {},
   "source": [
    "## Heviside 階段関数\n",
    "以下のような関数を定義し、その動作を確認しなさい。\n",
    "$$h(x)=\\begin{cases}\n",
    "1 & x\\ge 0\\\\\n",
    "0 & x<0\n",
    "\\end{cases}$$"
   ]
  },
  {
   "cell_type": "code",
   "execution_count": null,
   "metadata": {},
   "outputs": [],
   "source": [
    "def heviside(int x) -> int:\n",
    "\n",
    "    "
   ]
  },
  {
   "cell_type": "markdown",
   "metadata": {},
   "source": [
    "## 二点の距離を返す関数\n",
    "二つの点$p_1=(x_1,y_1)$と$p_2=(x_2,y_2)$を考える。\n",
    "その間の距離\n",
    "$$d = \\sqrt{(x_1-x_2)^2+(y_1-y_2)^2}$$\n",
    "を返す関数を定義し、その動作を確認しなさい。\n",
    "平方根を計算するためには、`math.sqrt()`を利用する。"
   ]
  },
  {
   "cell_type": "code",
   "execution_count": null,
   "metadata": {},
   "outputs": [],
   "source": [
    "def distance(p_1:tuple[float,float], p_2:tuple[float,float])->float:\n",
    "\n",
    "    "
   ]
  },
  {
   "cell_type": "markdown",
   "metadata": {},
   "source": [
    "## 中点を返す関数\n",
    "二つの点$p_1=(x_1,y_1)$と$p_2=(x_2,y_2)$を考える。その中点\n",
    "$$q=(\\frac{x_1+x_2}{2},\\frac{y_1+y_2}{2})$$\n",
    "を返す関数を定義し、その動作を確認しなさい。"
   ]
  },
  {
   "cell_type": "code",
   "execution_count": null,
   "metadata": {},
   "outputs": [],
   "source": [
    "def middlePoint(p_1:tuple[float,float], p_2:tuple[float,float]) -> tuple[float,float]:\n",
    "\n",
    "    "
   ]
  },
  {
   "cell_type": "markdown",
   "metadata": {},
   "source": [
    "## リスト中の要素に対する絶対値の和\n",
    "`float`型の要素からなるリストに対して、その各要素の絶対値の和を返す関数を定義し、その動作を確認しなさい。"
   ]
  },
  {
   "cell_type": "code",
   "execution_count": null,
   "metadata": {},
   "outputs": [],
   "source": [
    "def absoluteSum(data:list[float]) -> float:\n",
    "\n",
    "    "
   ]
  }
 ],
 "metadata": {
  "kernelspec": {
   "display_name": "myenv",
   "language": "python",
   "name": "python3"
  },
  "language_info": {
   "name": "python",
   "version": "3.12.1"
  }
 },
 "nbformat": 4,
 "nbformat_minor": 2
}
