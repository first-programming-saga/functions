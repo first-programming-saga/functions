{
  "cells": [
    {
      "metadata": {
        "trusted": true
      },
      "cell_type": "code",
      "source": "import math",
      "execution_count": 13,
      "outputs": []
    },
    {
      "metadata": {},
      "cell_type": "markdown",
      "source": "引数で渡されたリスト中のデータに対して、データ数、平均、標準偏差を返す関数"
    },
    {
      "metadata": {
        "trusted": true
      },
      "cell_type": "code",
      "source": "def stat(data):\n    n = len(data)\n    s=0\n    s2=0\n    for x in data:#data中のすべてに対して繰り返し\n        s += x\n        s2 += x*s\n    average = s/n\n    sigma2 = s2/n-average*average\n    sigma = math.sqrt(sigma2)\n    return n,average,sigma\n",
      "execution_count": 14,
      "outputs": []
    },
    {
      "metadata": {
        "trusted": true
      },
      "cell_type": "code",
      "source": "#データリスト\ndata=[3,5,7,2,3,6,1,4,9,2]\nn,average,sigma=stat(data)\nprint('データ数 :',n)\nprint('平均:',average)\nprint('標準偏差:',round(sigma,2))",
      "execution_count": 15,
      "outputs": [
        {
          "output_type": "stream",
          "text": "データ数 : 10\n平均: 4.2\n標準偏差: 9.07\n",
          "name": "stdout"
        }
      ]
    }
  ],
  "metadata": {
    "kernelspec": {
      "name": "python36",
      "display_name": "Python 3.6",
      "language": "python"
    },
    "language_info": {
      "mimetype": "text/x-python",
      "nbconvert_exporter": "python",
      "name": "python",
      "pygments_lexer": "ipython3",
      "version": "3.6.6",
      "file_extension": ".py",
      "codemirror_mode": {
        "version": 3,
        "name": "ipython"
      }
    }
  },
  "nbformat": 4,
  "nbformat_minor": 1
}