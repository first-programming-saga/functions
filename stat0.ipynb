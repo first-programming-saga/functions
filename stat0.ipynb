{
  "cells": [
    {
      "cell_type": "markdown",
      "metadata": {},
      "source": [
        "# 統計を行う関数\n",
        "引数で渡されたリスト中のデータに対して、データ数、平均を返す関数"
      ]
    },
    {
      "cell_type": "code",
      "execution_count": null,
      "metadata": {
        "trusted": true
      },
      "outputs": [],
      "source": [
        "def stat(data:list[float]) -> tuple[int,float]:\n",
        "    \"\"\"\n",
        "    引数で渡されたリスト中のデータに対して、データ数、平均を返す関数\n",
        "    \"\"\"\n",
        "    n = len(data)\n",
        "    s = 0 #和を保存\n",
        "    for x in data: #data中のすべてに対して繰り返し\n",
        "        s += x\n",
        "    average = s / n #平均\n",
        "    return n, average"
      ]
    },
    {
      "cell_type": "code",
      "execution_count": null,
      "metadata": {
        "trusted": true
      },
      "outputs": [],
      "source": [
        "#データリスト\n",
        "dataList = [3, 5, 7, 2, 3, 6, 1, 4, 9, 2]\n",
        "n, average = stat(dataList)\n",
        "print('データ数 :', n)\n",
        "print('平均:', average)"
      ]
    }
  ],
  "metadata": {
    "interpreter": {
      "hash": "ddafbbf4347d0b4a8ca2d67a8cf47c9a236a0ee7708cf872d86a0b5d08596010"
    },
    "kernelspec": {
      "display_name": "Python 3.9.7 64-bit (windows store)",
      "name": "python3"
    },
    "language_info": {
      "codemirror_mode": {
        "name": "ipython",
        "version": 3
      },
      "file_extension": ".py",
      "mimetype": "text/x-python",
      "name": "python",
      "nbconvert_exporter": "python",
      "pygments_lexer": "ipython3",
      "version": "3.9.7"
    }
  },
  "nbformat": 4,
  "nbformat_minor": 1
}
