{
  "cells": [
    {
      "metadata": {},
      "cell_type": "markdown",
      "source": "# 統計を行う関数\n引数で渡されたリスト中のデータに対して、データ数、平均、標準偏差を返す関数"
    },
    {
      "metadata": {
        "trusted": true
      },
      "cell_type": "code",
      "source": "import math",
      "execution_count": 1,
      "outputs": []
    },
    {
      "metadata": {
        "trusted": true
      },
      "cell_type": "code",
      "source": "def stat(data):#dataは数値のリスト\n    n = len(data)\n    s=0#和を保存\n    s2=0#二乗和を保存\n    for x in data:#data中のすべてに対して繰り返し\n        s += x\n        s2 += x*x\n    average = s/n#平均\n    sigma2 = s2/n-average*average#分散\n    sigma = math.sqrt(sigma2)#標準偏差\n    return n,average,sigma",
      "execution_count": 2,
      "outputs": []
    },
    {
      "metadata": {
        "trusted": true
      },
      "cell_type": "code",
      "source": "#データリスト\ndata=[3,5,7,2,3,6,1,4,9,2]\nn,average,sigma=stat(data)\nprint('データ数 :',n)\nprint('平均:',round(average,2))\nprint('標準偏差:',round(sigma,2))",
      "execution_count": 4,
      "outputs": [
        {
          "output_type": "stream",
          "text": "データ数 : 10\n平均: 4.2\n標準偏差: 2.4\n",
          "name": "stdout"
        }
      ]
    },
    {
      "metadata": {
        "trusted": true
      },
      "cell_type": "code",
      "source": "",
      "execution_count": null,
      "outputs": []
    }
  ],
  "metadata": {
    "kernelspec": {
      "name": "python36",
      "display_name": "Python 3.6",
      "language": "python"
    },
    "language_info": {
      "mimetype": "text/x-python",
      "nbconvert_exporter": "python",
      "name": "python",
      "pygments_lexer": "ipython3",
      "version": "3.6.6",
      "file_extension": ".py",
      "codemirror_mode": {
        "version": 3,
        "name": "ipython"
      }
    }
  },
  "nbformat": 4,
  "nbformat_minor": 1
}