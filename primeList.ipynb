{
 "cells": [
  {
   "cell_type": "markdown",
   "metadata": {},
   "source": [
    "# 素数のリストを作成する"
   ]
  },
  {
   "cell_type": "code",
   "execution_count": 1,
   "metadata": {},
   "outputs": [],
   "source": [
    "def dividable(primes:list[int], k:int)->bool:\n",
    "    \"\"\"\n",
    "    k が primesと互いに素であるときTrueを返す\n",
    "    \"\"\"\n",
    "    for x in primes:\n",
    "        if k % x ==0:\n",
    "            return False\n",
    "    return True"
   ]
  },
  {
   "cell_type": "code",
   "execution_count": 2,
   "metadata": {},
   "outputs": [],
   "source": [
    "def primeNumbers(n:int)->list[int]:\n",
    "    \"\"\"\n",
    "    小さい順に、素数をn個探索し、リストとして返す\n",
    "    \"\"\"\n",
    "    primeList:list[int] = [2]\n",
    "    k = 3\n",
    "    while len(primeList)<n:\n",
    "        if dividable(primeList,k):\n",
    "            primeList.append(k)\n",
    "        k += 1\n",
    "    return primeList"
   ]
  },
  {
   "cell_type": "code",
   "execution_count": 6,
   "metadata": {},
   "outputs": [
    {
     "data": {
      "text/plain": [
       "[2, 3, 5, 7, 11, 13, 17, 19, 23, 29, 31, 37, 41, 43, 47, 53, 59, 61, 67, 71]"
      ]
     },
     "execution_count": 6,
     "metadata": {},
     "output_type": "execute_result"
    }
   ],
   "source": [
    "primeNumbers(20)"
   ]
  }
 ],
 "metadata": {
  "kernelspec": {
   "display_name": "myenv",
   "language": "python",
   "name": "python3"
  },
  "language_info": {
   "codemirror_mode": {
    "name": "ipython",
    "version": 3
   },
   "file_extension": ".py",
   "mimetype": "text/x-python",
   "name": "python",
   "nbconvert_exporter": "python",
   "pygments_lexer": "ipython3",
   "version": "3.11.7"
  }
 },
 "nbformat": 4,
 "nbformat_minor": 2
}
