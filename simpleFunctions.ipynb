{
  "cells": [
    {
      "metadata": {
        "collapsed": true
      },
      "cell_type": "markdown",
      "source": [
        "# 簡単な関数の例\n",
        "\n",
        "関数は、求まりのある処理に名前を付けて作成する。関数の機能を明確にすることで、一つ一つの動作確認が容易になる。"
      ]
    },
    {
      "metadata": {},
      "cell_type": "markdown",
      "source": [
        "## 引数の無い関数の例\n",
        "\n",
        "関数の内部で処理を行うだけの例。\n",
        "\n",
        "呼び出し側は関数名を使う。"
      ]
    },
    {
      "metadata": {
        "trusted": true,
        "scrolled": true
      },
      "cell_type": "code",
      "source": [
        "def hello():\n",
        "    print(\"こんにちは\")\n",
        "\n",
        "def goodbye():\n",
        "    print(\"さようなら\")\n",
        "    \n",
        "hello()\n",
        "goodbye()"
      ],
      "execution_count": null,
      "outputs": []
    },
    {
      "metadata": {},
      "cell_type": "markdown",
      "source": [
        "関数から値が返ってくる例。値を返すためには、returnを使う。\n",
        "\n",
        "呼び出し側は、戻り値を変数に代入し、格納する。"
      ]
    },
    {
      "metadata": {
        "trusted": true
      },
      "cell_type": "code",
      "source": [
        "def hello2():\n",
        "    return \"こんにちは\"\n",
        "\n",
        "def goodbye2():\n",
        "    return \"さようなら\"\n",
        "    \n",
        "m1 = hello2()\n",
        "m2 = goodbye2()\n",
        "\n",
        "print(m1)\n",
        "print(m2)"
      ],
      "execution_count": null,
      "outputs": []
    },
    {
      "metadata": {},
      "cell_type": "markdown",
      "source": [
        "関数内部で乱数を生成する例。1から6までの整数をでたらめに生成する（さいころの模倣）。"
      ]
    },
    {
      "metadata": {
        "trusted": true
      },
      "cell_type": "code",
      "source": [
        "from random import randint\n",
        "\n",
        "def dice():#さいころと同様に1から6までの数字をでたらめに返す\n",
        "    num = randint(1,6)\n",
        "    return num\n",
        "\n",
        "for i in range(10):\n",
        "    x = dice()\n",
        "    print(x)"
      ],
      "execution_count": null,
      "outputs": []
    },
    {
      "metadata": {
        "trusted": true
      },
      "cell_type": "code",
      "source": [],
      "execution_count": null,
      "outputs": []
    }
  ],
  "metadata": {
    "kernelspec": {
      "name": "python36",
      "display_name": "Python 3.6",
      "language": "python"
    },
    "language_info": {
      "mimetype": "text/x-python",
      "nbconvert_exporter": "python",
      "name": "python",
      "pygments_lexer": "ipython3",
      "version": "3.6.6",
      "file_extension": ".py",
      "codemirror_mode": {
        "version": 3,
        "name": "ipython"
      }
    }
  },
  "nbformat": 4,
  "nbformat_minor": 2
}