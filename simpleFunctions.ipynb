{
  "cells": [
    {
      "cell_type": "markdown",
      "metadata": {
        "collapsed": true
      },
      "source": [
        "# 簡単な関数の例\n",
        "\n",
        "関数は、求まりのある処理に名前を付けて作成する。関数の機能を明確にすることで、一つ一つの動作確認が容易になる。"
      ]
    },
    {
      "cell_type": "markdown",
      "metadata": {},
      "source": [
        "## 引数の無い関数の例\n",
        "\n",
        "関数の内部で処理を行うだけの例。\n",
        "\n",
        "呼び出し側は関数名を使う。"
      ]
    },
    {
      "cell_type": "code",
      "execution_count": null,
      "metadata": {
        "scrolled": true,
        "trusted": true
      },
      "outputs": [],
      "source": [
        "def hello():\n",
        "    print(\"こんにちは\")\n",
        "\n",
        "def goodbye():\n",
        "    print(\"さようなら\")\n",
        "    \n",
        "hello()\n",
        "goodbye()"
      ]
    },
    {
      "cell_type": "markdown",
      "metadata": {},
      "source": [
        "関数から値が返ってくる例。値を返すためには、returnを使う。\n",
        "\n",
        "呼び出し側は、戻り値を変数に代入し、格納する。"
      ]
    },
    {
      "cell_type": "code",
      "execution_count": null,
      "metadata": {
        "trusted": true
      },
      "outputs": [],
      "source": [
        "def hello2() -> str:\n",
        "    return \"こんにちは\"\n",
        "\n",
        "def goodbye2() -> str:\n",
        "    return \"さようなら\"\n",
        "    \n",
        "m1 = hello2()\n",
        "m2 = goodbye2()\n",
        "\n",
        "print(m1)\n",
        "print(m2)"
      ]
    },
    {
      "cell_type": "markdown",
      "metadata": {},
      "source": [
        "関数内部で乱数を生成する例。1から6までの整数をでたらめに生成する（さいころの模倣）。"
      ]
    },
    {
      "cell_type": "code",
      "execution_count": null,
      "metadata": {
        "trusted": true
      },
      "outputs": [],
      "source": [
        "from random import randint\n",
        "\n",
        "def dice() -> int:\n",
        "    \"\"\"\n",
        "    さいころと同様に1から6までの数字をでたらめに返す\n",
        "    \"\"\"\n",
        "    num = randint(1,6)\n",
        "    return num\n",
        "\n",
        "for i in range(10):\n",
        "    x = dice()\n",
        "    print(x)"
      ]
    }
  ],
  "metadata": {
    "interpreter": {
      "hash": "2322be9354d0c02ae7a563e15a3b1424506aba364738ddffa4554a9ebf410fcb"
    },
    "kernelspec": {
      "display_name": "Python 3.9.7 64-bit ('base': conda)",
      "name": "python3"
    },
    "language_info": {
      "codemirror_mode": {
        "name": "ipython",
        "version": 3
      },
      "file_extension": ".py",
      "mimetype": "text/x-python",
      "name": "python",
      "nbconvert_exporter": "python",
      "pygments_lexer": "ipython3",
      "version": "3.9.7"
    }
  },
  "nbformat": 4,
  "nbformat_minor": 2
}
