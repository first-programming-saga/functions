{
  "cells": [
    {
      "metadata": {
        "collapsed": true
      },
      "cell_type": "markdown",
      "source": "# 簡単な関数の例\n\n関数は、求まりのある処理に名前を付けて作成する。関数の機能を明確にすることで、一つ一つの動作確認が容易になる。"
    },
    {
      "metadata": {},
      "cell_type": "markdown",
      "source": "## 引数の無い関数の例\n\n関数の内部で処理を行うだけの例。\n\n呼び出し側は関数名を使う。"
    },
    {
      "metadata": {
        "trusted": true,
        "scrolled": true
      },
      "cell_type": "code",
      "source": "def hello():\n    print(\"こんにちは\")\n\ndef goodbye():\n    print(\"さようなら\")\n    \nhello()\ngoodbye()",
      "execution_count": 2,
      "outputs": [
        {
          "output_type": "stream",
          "text": "こんにちは\nさようなら\n",
          "name": "stdout"
        }
      ]
    },
    {
      "metadata": {},
      "cell_type": "markdown",
      "source": "関数から値が返ってくる例。returnを使う。\n\n呼び出し側は、戻り値を変数に格納する。"
    },
    {
      "metadata": {
        "trusted": true
      },
      "cell_type": "code",
      "source": "def hello2():\n    return \"こんにちは\"\n\ndef goodbye2():\n    return \"さようなら\"\n    \nm1=hello()\nm2=goodbye()\nprint(m1)\nprint(m2)",
      "execution_count": 3,
      "outputs": [
        {
          "output_type": "stream",
          "text": "こんにちは\nさようなら\nNone\nNone\n",
          "name": "stdout"
        }
      ]
    },
    {
      "metadata": {},
      "cell_type": "markdown",
      "source": "関数内部で乱数を生成する例"
    },
    {
      "metadata": {
        "trusted": true
      },
      "cell_type": "code",
      "source": "from random import randint\n\ndef dice():\n    num = randint(1,6)\n    return num\n\nfor i in range(10):\n    x = dice()\n    print(x)",
      "execution_count": 4,
      "outputs": [
        {
          "output_type": "stream",
          "text": "4\n4\n1\n6\n1\n3\n6\n3\n6\n4\n",
          "name": "stdout"
        }
      ]
    },
    {
      "metadata": {
        "trusted": true
      },
      "cell_type": "code",
      "source": "",
      "execution_count": null,
      "outputs": []
    }
  ],
  "metadata": {
    "kernelspec": {
      "name": "python36",
      "display_name": "Python 3.6",
      "language": "python"
    },
    "language_info": {
      "mimetype": "text/x-python",
      "nbconvert_exporter": "python",
      "name": "python",
      "pygments_lexer": "ipython3",
      "version": "3.6.6",
      "file_extension": ".py",
      "codemirror_mode": {
        "version": 3,
        "name": "ipython"
      }
    }
  },
  "nbformat": 4,
  "nbformat_minor": 2
}