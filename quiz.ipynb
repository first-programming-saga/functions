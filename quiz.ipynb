{
  "cells": [
    {
      "attachments": {},
      "cell_type": "markdown",
      "metadata": {},
      "source": [
        "# 課題\n",
        "## 二次方程式の解\n",
        "二次方程式$ax^2+bx+c=0$の解を求める関数。判別式を$d=b^2-4ac$とすると、$d\\ge 0$の時は、二つの実数解を持つ。\n",
        "$$\n",
        "x\\pm=\\frac{-b\\pm\\sqrt{d}}{2a}\n",
        "$$\n",
        "$d<0$の時は、二つの複素数解を持つ。コード中の`1j`は虚数単位$i=\\sqrt{-1}$を表す。\n",
        "$$\n",
        "x\\pm=\\frac{-b\\pm i\\sqrt{-d}}{2a}\n",
        "$$\n",
        "係数の組$a$、$b$、$c$を与えて、二次方程式の解を返す関数`quadratic()`を完成させなさい。なお、二つの解はタプルとして返すこととする。\n",
        "\n",
        "- 平方根$\\sqrt{x}$の計算には`math.sqrt(x)`を使う\n",
        "- 複素数$a+ib$($i$は虚数単位)を表すには`a+1j*b`とする。"
      ]
    },
    {
      "cell_type": "code",
      "execution_count": null,
      "metadata": {
        "trusted": true
      },
      "outputs": [],
      "source": [
        "import math"
      ]
    },
    {
      "cell_type": "code",
      "execution_count": null,
      "metadata": {
        "trusted": true
      },
      "outputs": [],
      "source": [
        "def quadratic(a:float,b:float,c:float)->tuple[complex,complex]:#二次方程式の解\n",
        "    d = b*b-4*a*c#判別式\n",
        "    if d >= 0:#実数解\n",
        "\n",
        "        \n",
        "        \n",
        "    else:#複素数解\n",
        "\n",
        "        \n",
        "\n",
        "    ans = (x1,x2)#二つの値を戻す。タプルになっている\n",
        "    return ans"
      ]
    },
    {
      "cell_type": "code",
      "execution_count": null,
      "metadata": {
        "trusted": true
      },
      "outputs": [],
      "source": [
        "a,b,c = 1,3,1\n",
        "print('二次方程式、実数解')\n",
        "x1,x2=quadratic(a,b,c)\n",
        "print((x1,x2))\n",
        "\n",
        "c = 3\n",
        "print('二次方程式、複素数解')\n",
        "sol=quadratic(a,b,c)\n",
        "print(sol)"
      ]
    },
    {
      "cell_type": "code",
      "execution_count": null,
      "metadata": {
        "scrolled": true,
        "trusted": true
      },
      "outputs": [],
      "source": [
        "#引数名の指定\n",
        "x1,x2=quadratic(c=1,b=2,a=1)\n",
        "print(x1,x2)"
      ]
    },
    {
      "attachments": {},
      "cell_type": "markdown",
      "metadata": {},
      "source": [
        "# 課題\n",
        "別の$(a,b,c)$の例を作成し、結果を確認しなさい。"
      ]
    },
    {
      "cell_type": "code",
      "execution_count": null,
      "metadata": {
        "trusted": true
      },
      "outputs": [],
      "source": []
    },
    {
      "cell_type": "code",
      "execution_count": null,
      "metadata": {
        "trusted": true
      },
      "outputs": [],
      "source": []
    }
  ],
  "metadata": {
    "kernelspec": {
      "display_name": "Python 3.6",
      "language": "python",
      "name": "python36"
    },
    "language_info": {
      "codemirror_mode": {
        "name": "ipython",
        "version": 3
      },
      "file_extension": ".py",
      "mimetype": "text/x-python",
      "name": "python",
      "nbconvert_exporter": "python",
      "pygments_lexer": "ipython3",
      "version": "3.6.6"
    }
  },
  "nbformat": 4,
  "nbformat_minor": 2
}
