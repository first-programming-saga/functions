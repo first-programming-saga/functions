{
  "cells": [
    {
      "cell_type": "markdown",
      "metadata": {
        "collapsed": true
      },
      "source": [
        "# 与えられた数が素数か否かを判定する関数"
      ]
    },
    {
      "cell_type": "code",
      "execution_count": null,
      "metadata": {
        "trusted": true
      },
      "outputs": [],
      "source": [
        "import math"
      ]
    },
    {
      "cell_type": "markdown",
      "metadata": {},
      "source": [
        "戻り値が二つあることに注意。タプルになっている。"
      ]
    },
    {
      "cell_type": "code",
      "execution_count": null,
      "metadata": {
        "trusted": true
      },
      "outputs": [],
      "source": [
        "def isPrime(n:int) -> tuple[bool,str]:\n",
        "    \"\"\"\n",
        "    引数が素数か否かを判定し、結果を理由とともに返す\n",
        "    \"\"\"\n",
        "    result = False\n",
        "    if n <= 0:\n",
        "        message=f'引数は正でなければならない'\n",
        "    elif n < 2:\n",
        "        message = f'{n}は素数ではない'\n",
        "    elif n == 2:\n",
        "        message = f'{n}は素数である'\n",
        "        result = True\n",
        "    elif n % 2 == 0:\n",
        "        message = f'{n}は偶数であり、素数ではない'\n",
        "    else:\n",
        "        m = int(math.sqrt(n))\n",
        "        for k in range(3, m + 1, 2):#forで記述\n",
        "            if n % k == 0:\n",
        "                message = f'{n}は{k}で割り切れるため、素数ではない'\n",
        "                break\n",
        "        else:#ループの最後まで至った場合\n",
        "            message = f'{n}は素数である'\n",
        "            result = True\n",
        "    return result, message"
      ]
    },
    {
      "cell_type": "code",
      "execution_count": null,
      "metadata": {
        "trusted": true
      },
      "outputs": [],
      "source": [
        "for i in range(2, 100, 2):\n",
        "    r, m = isPrime(i)\n",
        "    print(m)"
      ]
    },
    {
      "cell_type": "code",
      "execution_count": null,
      "metadata": {
        "trusted": true
      },
      "outputs": [],
      "source": []
    }
  ],
  "metadata": {
    "interpreter": {
      "hash": "ddafbbf4347d0b4a8ca2d67a8cf47c9a236a0ee7708cf872d86a0b5d08596010"
    },
    "kernelspec": {
      "display_name": "Python 3.9.7 64-bit (windows store)",
      "name": "python3"
    },
    "language_info": {
      "codemirror_mode": {
        "name": "ipython",
        "version": 3
      },
      "file_extension": ".py",
      "mimetype": "text/x-python",
      "name": "python",
      "nbconvert_exporter": "python",
      "pygments_lexer": "ipython3",
      "version": "3.9.7"
    }
  },
  "nbformat": 4,
  "nbformat_minor": 2
}
