{
  "cells": [
    {
      "metadata": {
        "collapsed": true
      },
      "cell_type": "markdown",
      "source": "# 与えられた数が素数か否かを判定する関数"
    },
    {
      "metadata": {
        "trusted": true
      },
      "cell_type": "code",
      "source": "import math",
      "execution_count": null,
      "outputs": []
    },
    {
      "metadata": {},
      "cell_type": "markdown",
      "source": "戻り値が二つあることに注意。タプルになっている。"
    },
    {
      "metadata": {
        "trusted": true
      },
      "cell_type": "code",
      "source": "def isPrime(n):\n    result = False\n    if n <= 0:\n        message=f'引数は正でなければならない'\n    elif n < 2:\n        message = f'{n}は素数ではない'\n    elif n == 2:\n        message = f'{n}は素数である'\n        result = True\n    elif n % 2 == 0:\n        message = f'{n}は偶数であり、素数ではない'\n    else:\n        m=int(math.sqrt(n))\n        for k in range(3,m+1,2):#forで記述\n            if n % k == 0:\n                message = f'{n}は{k}で割り切れるため、素数ではない'\n                break\n        else:#ループの最後まで至った場合\n            message = f'{n}は素数である'\n            result = True\n    return result,message",
      "execution_count": null,
      "outputs": []
    },
    {
      "metadata": {
        "trusted": true
      },
      "cell_type": "code",
      "source": "for i in range(2,100,2):\n    r,m = isPrime(i)\n    print(m)",
      "execution_count": null,
      "outputs": []
    },
    {
      "metadata": {
        "trusted": true
      },
      "cell_type": "code",
      "source": "",
      "execution_count": null,
      "outputs": []
    }
  ],
  "metadata": {
    "kernelspec": {
      "name": "python36",
      "display_name": "Python 3.6",
      "language": "python"
    },
    "language_info": {
      "mimetype": "text/x-python",
      "nbconvert_exporter": "python",
      "name": "python",
      "pygments_lexer": "ipython3",
      "version": "3.6.6",
      "file_extension": ".py",
      "codemirror_mode": {
        "version": 3,
        "name": "ipython"
      }
    }
  },
  "nbformat": 4,
  "nbformat_minor": 2
}