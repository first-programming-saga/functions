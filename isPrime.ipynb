{
  "cells": [
    {
      "metadata": {
        "collapsed": true
      },
      "cell_type": "markdown",
      "source": "# 与えられた数が素数か否かを判定する関数"
    },
    {
      "metadata": {
        "trusted": true
      },
      "cell_type": "code",
      "source": "import math",
      "execution_count": 1,
      "outputs": []
    },
    {
      "metadata": {},
      "cell_type": "markdown",
      "source": "戻り値が二つあることに注意。タプルになっている。"
    },
    {
      "metadata": {
        "trusted": true
      },
      "cell_type": "code",
      "source": "def isPrime(n):\n    result = False\n    if n <= 0:\n        message=f'引数は正でなければならない'\n    elif n < 2:\n        message = f'{n}は素数ではない'\n    elif n % 2 == 0:\n        message = f'{n}は偶数であり、素数ではない'\n    else:\n        m=int(math.sqrt(n))\n        k = 3\n        while k <= m:\n            if n % k == 0:\n                message = f'{n}は{k}で割り切れるため、素数ではない'\n                break\n            k += 2\n        else:#ループの最後まで至った場合\n            message = f'{n}は素数である'\n            result = True\n    return result,message",
      "execution_count": 2,
      "outputs": []
    },
    {
      "metadata": {
        "trusted": true
      },
      "cell_type": "code",
      "source": "for i in range(3,50,2):\n    r,m = isPrime(i)\n    print(m)",
      "execution_count": 4,
      "outputs": [
        {
          "output_type": "stream",
          "text": "3は素数である\n5は素数である\n7は素数である\n9は3で割り切れるため、素数ではない\n11は素数である\n13は素数である\n15は3で割り切れるため、素数ではない\n17は素数である\n19は素数である\n21は3で割り切れるため、素数ではない\n23は素数である\n25は5で割り切れるため、素数ではない\n27は3で割り切れるため、素数ではない\n29は素数である\n31は素数である\n33は3で割り切れるため、素数ではない\n35は5で割り切れるため、素数ではない\n37は素数である\n39は3で割り切れるため、素数ではない\n41は素数である\n43は素数である\n45は3で割り切れるため、素数ではない\n47は素数である\n49は7で割り切れるため、素数ではない\n",
          "name": "stdout"
        }
      ]
    },
    {
      "metadata": {
        "trusted": true
      },
      "cell_type": "code",
      "source": "",
      "execution_count": null,
      "outputs": []
    }
  ],
  "metadata": {
    "kernelspec": {
      "name": "python36",
      "display_name": "Python 3.6",
      "language": "python"
    },
    "language_info": {
      "mimetype": "text/x-python",
      "nbconvert_exporter": "python",
      "name": "python",
      "pygments_lexer": "ipython3",
      "version": "3.6.6",
      "file_extension": ".py",
      "codemirror_mode": {
        "version": 3,
        "name": "ipython"
      }
    }
  },
  "nbformat": 4,
  "nbformat_minor": 2
}