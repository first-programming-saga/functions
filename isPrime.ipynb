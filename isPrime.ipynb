{
  "cells": [
    {
      "metadata": {
        "collapsed": true
      },
      "cell_type": "markdown",
      "source": "# 与えられた数が素数か否かを判定する関数"
    },
    {
      "metadata": {
        "trusted": true
      },
      "cell_type": "code",
      "source": "import math",
      "execution_count": 5,
      "outputs": []
    },
    {
      "metadata": {},
      "cell_type": "markdown",
      "source": "戻り値が二つあることに注意。タプルになっている。"
    },
    {
      "metadata": {
        "trusted": true
      },
      "cell_type": "code",
      "source": "def isPrime(n):\n    result = False\n    if n <= 0:\n        message=f'引数は正でなければならない'\n    elif n < 2:\n        message = f'{n}は素数ではない'\n    elif n == 2:\n        message = f'{n}は素数である'\n        result = True\n    elif n % 2 == 0:\n        message = f'{n}は偶数であり、素数ではない'\n    else:\n        m=int(math.sqrt(n))\n        for k in range(3,m+1,2):#forで記述\n            if n % k == 0:\n                message = f'{n}は{k}で割り切れるため、素数ではない'\n                break\n        else:#ループの最後まで至った場合\n            message = f'{n}は素数である'\n            result = True\n    return result,message",
      "execution_count": 6,
      "outputs": []
    },
    {
      "metadata": {
        "trusted": true
      },
      "cell_type": "code",
      "source": "for i in range(2,100,2):\n    r,m = isPrime(i)\n    print(m)",
      "execution_count": 7,
      "outputs": [
        {
          "output_type": "stream",
          "text": "2は素数である\n4は偶数であり、素数ではない\n6は偶数であり、素数ではない\n8は偶数であり、素数ではない\n10は偶数であり、素数ではない\n12は偶数であり、素数ではない\n14は偶数であり、素数ではない\n16は偶数であり、素数ではない\n18は偶数であり、素数ではない\n20は偶数であり、素数ではない\n22は偶数であり、素数ではない\n24は偶数であり、素数ではない\n26は偶数であり、素数ではない\n28は偶数であり、素数ではない\n30は偶数であり、素数ではない\n32は偶数であり、素数ではない\n34は偶数であり、素数ではない\n36は偶数であり、素数ではない\n38は偶数であり、素数ではない\n40は偶数であり、素数ではない\n42は偶数であり、素数ではない\n44は偶数であり、素数ではない\n46は偶数であり、素数ではない\n48は偶数であり、素数ではない\n50は偶数であり、素数ではない\n52は偶数であり、素数ではない\n54は偶数であり、素数ではない\n56は偶数であり、素数ではない\n58は偶数であり、素数ではない\n60は偶数であり、素数ではない\n62は偶数であり、素数ではない\n64は偶数であり、素数ではない\n66は偶数であり、素数ではない\n68は偶数であり、素数ではない\n70は偶数であり、素数ではない\n72は偶数であり、素数ではない\n74は偶数であり、素数ではない\n76は偶数であり、素数ではない\n78は偶数であり、素数ではない\n80は偶数であり、素数ではない\n82は偶数であり、素数ではない\n84は偶数であり、素数ではない\n86は偶数であり、素数ではない\n88は偶数であり、素数ではない\n90は偶数であり、素数ではない\n92は偶数であり、素数ではない\n94は偶数であり、素数ではない\n96は偶数であり、素数ではない\n98は偶数であり、素数ではない\n",
          "name": "stdout"
        }
      ]
    },
    {
      "metadata": {
        "trusted": true
      },
      "cell_type": "code",
      "source": "",
      "execution_count": null,
      "outputs": []
    }
  ],
  "metadata": {
    "kernelspec": {
      "name": "python36",
      "display_name": "Python 3.6",
      "language": "python"
    },
    "language_info": {
      "mimetype": "text/x-python",
      "nbconvert_exporter": "python",
      "name": "python",
      "pygments_lexer": "ipython3",
      "version": "3.6.6",
      "file_extension": ".py",
      "codemirror_mode": {
        "version": 3,
        "name": "ipython"
      }
    }
  },
  "nbformat": 4,
  "nbformat_minor": 2
}