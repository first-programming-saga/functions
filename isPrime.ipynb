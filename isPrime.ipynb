{
  "cells": [
    {
      "attachments": {},
      "cell_type": "markdown",
      "metadata": {
        "collapsed": true
      },
      "source": [
        "# 与えられた数が素数か否かを判定する関数"
      ]
    },
    {
      "cell_type": "code",
      "execution_count": null,
      "metadata": {
        "trusted": true
      },
      "outputs": [],
      "source": [
        "import math"
      ]
    },
    {
      "attachments": {},
      "cell_type": "markdown",
      "metadata": {},
      "source": [
        "戻り値が二つあり、タプルにとして返すことに注意する。"
      ]
    },
    {
      "cell_type": "code",
      "execution_count": null,
      "metadata": {
        "trusted": true
      },
      "outputs": [],
      "source": [
        "def isPrime(n:int) -> tuple[bool,str]:\n",
        "    \"\"\"\n",
        "    引数が素数か否かを判定し、結果を理由とともに返す\n",
        "\n",
        "    Parameters\n",
        "    ------\n",
        "    n: 判定対象の整数\n",
        "\n",
        "    Return\n",
        "    ------\n",
        "    (t, m): t=Trueならばnは素数、mは判定時のメッセージ\n",
        "    \"\"\"\n",
        "    result = False\n",
        "    if n <= 0:\n",
        "        message=f'引数は正でなければならない'\n",
        "    elif n < 2:\n",
        "        message = f'{n}は素数ではない'\n",
        "    elif n == 2:\n",
        "        message = f'{n}は素数である'\n",
        "        result = True\n",
        "    elif n % 2 == 0:\n",
        "        message = f'{n}は偶数であり、素数ではない'\n",
        "    else:\n",
        "        m = int(math.sqrt(n))\n",
        "        for k in range(3, m + 1, 2):#forで記述\n",
        "            if n % k == 0:\n",
        "                message = f'{n}は{k}で割り切れるため、素数ではない'\n",
        "                break\n",
        "        else:#ループの最後まで至った場合\n",
        "            message = f'{n}は素数である'\n",
        "            result = True\n",
        "    return result, message"
      ]
    },
    {
      "cell_type": "code",
      "execution_count": null,
      "metadata": {
        "trusted": true
      },
      "outputs": [],
      "source": [
        "for i in range(3, 100, 2):\n",
        "    r, m = isPrime(i)\n",
        "    print(m)"
      ]
    }
  ],
  "metadata": {
    "kernelspec": {
      "display_name": "myenv",
      "language": "python",
      "name": "python3"
    },
    "language_info": {
      "codemirror_mode": {
        "name": "ipython",
        "version": 3
      },
      "file_extension": ".py",
      "mimetype": "text/x-python",
      "name": "python",
      "nbconvert_exporter": "python",
      "pygments_lexer": "ipython3",
      "version": "3.10.8 | packaged by conda-forge | (main, Nov 22 2022, 08:25:29) [Clang 14.0.6 ]"
    },
    "vscode": {
      "interpreter": {
        "hash": "5b50574aca822a4663eeb358827631e5cbe081f130521b0066dec6b864ef6f2f"
      }
    }
  },
  "nbformat": 4,
  "nbformat_minor": 2
}
