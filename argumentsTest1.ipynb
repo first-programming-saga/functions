{
 "cells": [
  {
   "cell_type": "code",
   "execution_count": null,
   "metadata": {},
   "outputs": [],
   "source": [
    "def setRGB(red = 0, green = 0, blue=0) -> str:\n",
    "    \"\"\"\n",
    "    convert rgb decimal expression to hex expression\n",
    "\n",
    "    Parameters\n",
    "    ---\n",
    "    red [0,255]\n",
    "    green [0,255]\n",
    "    blue [0,255]\n",
    "\n",
    "    Returns\n",
    "    ---\n",
    "    str such as 0x******\n",
    "    \"\"\"\n",
    "    redStr = format(red, '02x')\n",
    "    greenStr = format(green, '02x')\n",
    "    blueStr = format(blue, '02x')\n",
    "    str = \"0x\" + redStr + greenStr + blueStr\n",
    "    return str\n"
   ]
  },
  {
   "cell_type": "code",
   "execution_count": null,
   "metadata": {},
   "outputs": [],
   "source": [
    "print(setRGB())\n",
    "print(setRGB(red = 253))\n",
    "print(setRGB(green = 20, blue = 250))"
   ]
  }
 ],
 "metadata": {
  "interpreter": {
   "hash": "ddafbbf4347d0b4a8ca2d67a8cf47c9a236a0ee7708cf872d86a0b5d08596010"
  },
  "kernelspec": {
   "display_name": "Python 3.9.7 64-bit (windows store)",
   "name": "python3"
  },
  "language_info": {
   "codemirror_mode": {
    "name": "ipython",
    "version": 3
   },
   "file_extension": ".py",
   "mimetype": "text/x-python",
   "name": "python",
   "nbconvert_exporter": "python",
   "pygments_lexer": "ipython3",
   "version": "3.9.7"
  },
  "orig_nbformat": 2
 },
 "nbformat": 4,
 "nbformat_minor": 2
}
