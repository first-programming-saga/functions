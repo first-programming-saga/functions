{
  "cells": [
    {
      "metadata": {},
      "cell_type": "markdown",
      "source": "# 関数の例\n関数の中から他の関数を呼ぶ。"
    },
    {
      "metadata": {
        "trusted": true
      },
      "cell_type": "code",
      "source": "import math",
      "execution_count": 1,
      "outputs": []
    },
    {
      "metadata": {
        "trusted": true
      },
      "cell_type": "code",
      "source": "def stat(data):#dataは数値のリスト\n    n = len(data)\n    s, s2 = sum2(data)\n    average = s/n\n    sigma = s2/n-average*average\n    return n,average,sigma",
      "execution_count": 2,
      "outputs": []
    },
    {
      "metadata": {
        "trusted": true
      },
      "cell_type": "code",
      "source": "def sum2(list):#list中のデータの和と二乗和\n    s=0\n    s2=0\n    for x in list:\n        s += x\n        s2 += x*x\n    return s, s2",
      "execution_count": 3,
      "outputs": []
    },
    {
      "metadata": {
        "trusted": true
      },
      "cell_type": "code",
      "source": "#データリスト\ndata=[3,5,7,2,3,6,1,4,9,2]\nn,average,sigma=stat(data)\nprint('データ数 :',n)\nprint('平均:',average)\nprint('標準偏差:',round(sigma,2))\n",
      "execution_count": 4,
      "outputs": [
        {
          "output_type": "stream",
          "text": "データ数 : 10\n平均: 4.2\n標準偏差: 5.76\n",
          "name": "stdout"
        }
      ]
    }
  ],
  "metadata": {
    "kernelspec": {
      "name": "python36",
      "display_name": "Python 3.6",
      "language": "python"
    },
    "language_info": {
      "mimetype": "text/x-python",
      "nbconvert_exporter": "python",
      "name": "python",
      "pygments_lexer": "ipython3",
      "version": "3.6.6",
      "file_extension": ".py",
      "codemirror_mode": {
        "version": 3,
        "name": "ipython"
      }
    }
  },
  "nbformat": 4,
  "nbformat_minor": 2
}