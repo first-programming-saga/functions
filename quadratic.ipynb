{
  "cells": [
    {
      "metadata": {},
      "cell_type": "markdown",
      "source": "# 二次方程式の解\n二次方程式$ax^2+bx+c=0$の解を求める関数。判別式を$d=b^2-4ac$とすると、$d\\ge 0$の時は、二つの実数解を持つ。\n$$\nx\\pm=\\frac{-b\\pm\\sqrt{d}}{2a}\n$$\n$d<0$の時は、二つの複素数解を持つ。コード中の\"1j\"は虚数単位$i$を表す。\n$$\nx\\pm=\\frac{-b\\pm i\\sqrt{-d}}{2a}\n$$"
    },
    {
      "metadata": {
        "trusted": true
      },
      "cell_type": "code",
      "source": "import math",
      "execution_count": 9,
      "outputs": []
    },
    {
      "metadata": {
        "trusted": true
      },
      "cell_type": "code",
      "source": "def quadratic(a,b,c):#二次方程式の解\n    d = b*b-4*a*c#判別式\n    if d >= 0:#実数解\n        x1 = (-b + math.sqrt(d))/(2*a)\n        x2 = (-b - math.sqrt(d))/(2*a)\n    else:#複素数解\n        x1 = (-b + 1j*math.sqrt(-d))/(2*a)\n        x2 = (-b - 1j*math.sqrt(-d))/(2*a)\n    ans = (x1,x2)#二つの値を戻す。タプルになっている\n    return ans",
      "execution_count": 10,
      "outputs": []
    },
    {
      "metadata": {
        "trusted": true
      },
      "cell_type": "code",
      "source": "a,b,c = 1,3,1\nprint('二次方程式、実数解')\nx1,x2=quadratic(a,b,c)\nprint((x1,x2))\n\nc = 3\nprint('二次方程式、複素数解')\nsol=quadratic(a,b,c)\nprint(sol)",
      "execution_count": 11,
      "outputs": [
        {
          "output_type": "stream",
          "text": "二次方程式、実数解\n(-0.3819660112501051, -2.618033988749895)\n二次方程式、複素数解\n((-1.5+0.8660254037844386j), (-1.5-0.8660254037844386j))\n",
          "name": "stdout"
        }
      ]
    },
    {
      "metadata": {
        "trusted": true,
        "scrolled": true
      },
      "cell_type": "code",
      "source": "#引数名の指定\nx1,x2=quadratic(c=1,b=2,a=1)\nprint(x1,x2)",
      "execution_count": 12,
      "outputs": [
        {
          "output_type": "stream",
          "text": "-1.0 -1.0\n",
          "name": "stdout"
        }
      ]
    },
    {
      "metadata": {},
      "cell_type": "markdown",
      "source": "# 課題\n別の$(a,b,c)$の例を作成し、結果を確認しなさい。"
    }
  ],
  "metadata": {
    "kernelspec": {
      "name": "python36",
      "display_name": "Python 3.6",
      "language": "python"
    },
    "language_info": {
      "mimetype": "text/x-python",
      "nbconvert_exporter": "python",
      "name": "python",
      "pygments_lexer": "ipython3",
      "version": "3.6.6",
      "file_extension": ".py",
      "codemirror_mode": {
        "version": 3,
        "name": "ipython"
      }
    }
  },
  "nbformat": 4,
  "nbformat_minor": 2
}