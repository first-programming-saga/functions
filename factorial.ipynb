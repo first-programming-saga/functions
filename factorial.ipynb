{
  "cells": [
    {
      "attachments": {},
      "cell_type": "markdown",
      "metadata": {},
      "source": [
        "# 階乗の再帰的定義\n",
        "\n",
        "関数の中には、引数の値が異なる同じ関数で定義されるものがある。このような定義を再帰的(_recursive_)という。\n",
        "最も簡単な例の一つは階乗である。階乗は\n",
        "$$n! = \\prod_{k=1}^nk=1\\times 2\\times 3\\times \\cdots \\times(n-1)\\times n$$\n",
        "である。これを\n",
        "$$n! = n\\times (n-1)!,\\ 0!=1$$\n",
        "と表現することができる。\n",
        "つまり、$n!$という$n$を引数とする関数は、同じ関数の$n-1$を引数とする関数の値を得ることができれば、それに$n$を乗じることで得ることができる。\n",
        "\n",
        "上記に対応して、階乗を計算する関数`factorial(n)`を`factorial(n-1)`を用いて定義する。\n",
        "ただし、無限に再帰しないように、停止条件が必須であることに注意する。"
      ]
    },
    {
      "cell_type": "code",
      "execution_count": null,
      "metadata": {
        "trusted": true
      },
      "outputs": [],
      "source": [
        "def factorial(n: int) -> int:\n",
        "    \"\"\"\n",
        "    階乗\n",
        "    \"\"\"\n",
        "    if n < 0:\n",
        "        raise ValueError('argument must not be negative')\n",
        "    if n == 0:\n",
        "        return 1\n",
        "    return n * factorial(n - 1)"
      ]
    },
    {
      "cell_type": "code",
      "execution_count": null,
      "metadata": {
        "trusted": true
      },
      "outputs": [],
      "source": [
        "m = 5\n",
        "a = factorial(m)\n",
        "print(a)"
      ]
    }
  ],
  "metadata": {
    "interpreter": {
      "hash": "5b50574aca822a4663eeb358827631e5cbe081f130521b0066dec6b864ef6f2f"
    },
    "kernelspec": {
      "display_name": "Python 3.9.7 ('myenv')",
      "language": "python",
      "name": "python3"
    },
    "language_info": {
      "codemirror_mode": {
        "name": "ipython",
        "version": 3
      },
      "file_extension": ".py",
      "mimetype": "text/x-python",
      "name": "python",
      "nbconvert_exporter": "python",
      "pygments_lexer": "ipython3",
      "version": "3.9.7"
    }
  },
  "nbformat": 4,
  "nbformat_minor": 2
}
