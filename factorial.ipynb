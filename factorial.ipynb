{
  "cells": [
    {
      "metadata": {},
      "cell_type": "markdown",
      "source": "# 階乗の再帰的定義\n\n関数の中には、引数の値が異なる同じ関数で定義されるものがある。このような定義を再帰的(recursive)という。\n最も簡単な例の一つは階乗である。階乗は\n$$n! = 1\\times 2\\times 3\\times \\cdots \\times(n-1)\\times n$$\nである。これを\n$$n! = n\\times (n-1)!,\\ 1!=1$$\nと表現することができる。\n\n関数factorial()がfactorial()で定義されている。\n無限に再帰しないように、停止条件が必須であることに注意する。"
    },
    {
      "metadata": {
        "trusted": true
      },
      "cell_type": "code",
      "source": "def factorial(n):\n    if n == 1:\n        return 1\n    return n * factorial(n-1)",
      "execution_count": null,
      "outputs": []
    },
    {
      "metadata": {
        "trusted": true
      },
      "cell_type": "code",
      "source": "m = 5\na = factorial(m)\nprint(a)",
      "execution_count": null,
      "outputs": []
    },
    {
      "metadata": {
        "trusted": true
      },
      "cell_type": "code",
      "source": "",
      "execution_count": null,
      "outputs": []
    }
  ],
  "metadata": {
    "kernelspec": {
      "name": "python36",
      "display_name": "Python 3.6",
      "language": "python"
    },
    "language_info": {
      "mimetype": "text/x-python",
      "nbconvert_exporter": "python",
      "name": "python",
      "pygments_lexer": "ipython3",
      "version": "3.6.6",
      "file_extension": ".py",
      "codemirror_mode": {
        "version": 3,
        "name": "ipython"
      }
    }
  },
  "nbformat": 4,
  "nbformat_minor": 2
}