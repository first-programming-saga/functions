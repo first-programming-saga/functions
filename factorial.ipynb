{
  "cells": [
    {
      "attachments": {},
      "cell_type": "markdown",
      "metadata": {},
      "source": [
        "# 階乗の再帰的定義\n",
        "\n",
        "関数の中には、引数の値が異なる同じ関数で定義されるものがある。このような定義を再帰的(_recursive_)という。\n",
        "最も簡単な例の一つは階乗である。階乗は\n",
        "$$\n",
        "\\begin{align*}\n",
        "n! &= \\prod_{k=1}^nk=1\\times 2\\times 3\\times \\cdots \\times(n-1)\\times n\n",
        "\\end{align*}\n",
        "$$\n",
        "である。これを\n",
        "$$\\begin{align*}\n",
        "n! &= n\\times (n-1)!\\\\\n",
        "0!&=1\n",
        "\\end{align*}$$\n",
        "と表現することができる。\n",
        "つまり、$n!$という$n$を引数とする関数は、同じ関数の$n-1$を引数とする関数の値を得ることができれば、それに$n$を乗じることで得ることができる。\n",
        "\n",
        "上記に対応して、階乗を計算する関数`factorial(n)`を`factorial(n-1)`を用いて定義する。\n",
        "ただし、無限に再帰しないように、停止条件が必須であることに注意する。"
      ]
    },
    {
      "cell_type": "code",
      "execution_count": null,
      "metadata": {
        "trusted": true
      },
      "outputs": [],
      "source": [
        "def factorial(n: int) -> int:\n",
        "    \"\"\"\n",
        "    階乗\n",
        "    \"\"\"\n",
        "    if n < 0:\n",
        "        raise ValueError('argument must not be negative')\n",
        "    if n == 0:\n",
        "        return 1\n",
        "    return n * factorial(n - 1)"
      ]
    },
    {
      "cell_type": "markdown",
      "metadata": {},
      "source": [
        "値$n!$がどのように確定していくかに注意する。例えば、$n=3$の場合、$0!=1$が最初に確定し、その後、$1!=1\\times 1=1$、$2!=2\\times 1=2$、$3!=3\\times 2=6$と順次確定していく。"
      ]
    },
    {
      "cell_type": "code",
      "execution_count": null,
      "metadata": {
        "trusted": true
      },
      "outputs": [],
      "source": [
        "m = 5\n",
        "a = factorial(m)\n",
        "print(a)"
      ]
    },
    {
      "cell_type": "markdown",
      "metadata": {},
      "source": [
        "## 課題: Fibonacci数列の再帰的定義\n",
        "$$\n",
        "\\begin{align*}\n",
        "F(0) &= 0\\\\\n",
        "F(1) &= 1\\\\\n",
        "F(n) &= F(n-1) + F(n-2),\\ n\\ge 2\n",
        "\\end{align*}\n",
        "$$"
      ]
    },
    {
      "cell_type": "code",
      "execution_count": null,
      "metadata": {},
      "outputs": [],
      "source": [
        "def fibonacci(n: int) -> int:\n",
        "    \"\"\"\n",
        "    フィボナッチ数列\n",
        "    \"\"\"\n",
        "\n",
        "\n",
        "\n",
        "for k in range(10):\n",
        "    v = fibonacci(k)\n",
        "    print(f'fibonacci({k}) = {v}')"
      ]
    }
  ],
  "metadata": {
    "interpreter": {
      "hash": "5b50574aca822a4663eeb358827631e5cbe081f130521b0066dec6b864ef6f2f"
    },
    "kernelspec": {
      "display_name": "Python 3.9.7 ('myenv')",
      "language": "python",
      "name": "python3"
    },
    "language_info": {
      "codemirror_mode": {
        "name": "ipython",
        "version": 3
      },
      "file_extension": ".py",
      "mimetype": "text/x-python",
      "name": "python",
      "nbconvert_exporter": "python",
      "pygments_lexer": "ipython3",
      "version": "3.12.2"
    }
  },
  "nbformat": 4,
  "nbformat_minor": 2
}
